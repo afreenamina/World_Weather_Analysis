{
 "cells": [
  {
   "cell_type": "code",
   "execution_count": 2,
   "id": "d5caaf9e",
   "metadata": {},
   "outputs": [],
   "source": [
    "# Import the random module.\n",
    "import random"
   ]
  },
  {
   "cell_type": "code",
   "execution_count": 3,
   "id": "bed1273f",
   "metadata": {},
   "outputs": [],
   "source": [
    "# Import the NumPy module.\n",
    "import numpy as np\n",
    "# Import timeit.\n",
    "import timeit"
   ]
  },
  {
   "cell_type": "code",
   "execution_count": 4,
   "id": "67e67b5d",
   "metadata": {},
   "outputs": [
    {
     "data": {
      "text/plain": [
       "81"
      ]
     },
     "execution_count": 4,
     "metadata": {},
     "output_type": "execute_result"
    }
   ],
   "source": [
    "#The randint() Function\n",
    "random.randint(-90,90)"
   ]
  },
  {
   "cell_type": "code",
   "execution_count": 6,
   "id": "1c89212c",
   "metadata": {},
   "outputs": [
    {
     "data": {
      "text/plain": [
       "0.515041437663391"
      ]
     },
     "execution_count": 6,
     "metadata": {},
     "output_type": "execute_result"
    }
   ],
   "source": [
    "#The random() Function\n",
    "random.random()"
   ]
  },
  {
   "cell_type": "code",
   "execution_count": 7,
   "id": "dca4f336",
   "metadata": {},
   "outputs": [
    {
     "data": {
      "text/plain": [
       "-44.743776627971314"
      ]
     },
     "execution_count": 7,
     "metadata": {},
     "output_type": "execute_result"
    }
   ],
   "source": [
    "random.randint(-90, 89) + random.random()"
   ]
  },
  {
   "cell_type": "code",
   "execution_count": 8,
   "id": "6c674307",
   "metadata": {
    "scrolled": true
   },
   "outputs": [
    {
     "name": "stdout",
     "output_type": "stream",
     "text": [
      "[39.75206328249227, -7.325796493076172, 7.8093961348904095, -22.17063826460519, -2.3107836908500907, 22.082832208450736, 15.116162362407835, -16.247621383805193, -55.17068946245174, 8.715211163793231]\n"
     ]
    }
   ],
   "source": [
    "# generate ten random floating-point decimal latitudes between –90 and 89.\n",
    "\n",
    "x = 1\n",
    "latitudes = []\n",
    "while x < 11:\n",
    "    random_lat = random.randint(-90, 89) + random.random()\n",
    "    latitudes.append(random_lat)\n",
    "    x += 1\n",
    "\n",
    "print(latitudes)"
   ]
  },
  {
   "cell_type": "code",
   "execution_count": 21,
   "id": "066e9755",
   "metadata": {
    "scrolled": true
   },
   "outputs": [
    {
     "data": {
      "text/plain": [
       "-71"
      ]
     },
     "execution_count": 21,
     "metadata": {},
     "output_type": "execute_result"
    }
   ],
   "source": [
    "#The randrange() Function\n",
    "random.randrange(-90, 90, step=1)"
   ]
  },
  {
   "cell_type": "code",
   "execution_count": 22,
   "id": "fa7b2399",
   "metadata": {},
   "outputs": [
    {
     "data": {
      "text/plain": [
       "53.36379931598066"
      ]
     },
     "execution_count": 22,
     "metadata": {},
     "output_type": "execute_result"
    }
   ],
   "source": [
    "#The uniform() Function\n",
    "random.uniform(-90, 90)"
   ]
  },
  {
   "cell_type": "code",
   "execution_count": 9,
   "id": "d81a38aa",
   "metadata": {},
   "outputs": [
    {
     "data": {
      "text/plain": [
       "array([-13.83952595,  84.17227184, -78.36545267, -87.4731307 ,\n",
       "        23.54481574,  38.11832673,  63.73936756, -43.05853569,\n",
       "        33.19779986,  49.36499859,  67.07197908,  85.69011543,\n",
       "        29.58948603, -14.71433305,  40.69254692,  47.16175815,\n",
       "        49.8022316 ,  13.74995185, -65.30855293, -27.10979883,\n",
       "        21.26750744, -71.03707609,  12.65752227, -22.3965273 ,\n",
       "       -53.60080889, -24.35449709,  43.83099857, -79.18504108,\n",
       "         9.49295833,  35.21453693,  80.7943827 , -29.26822071,\n",
       "        63.52476041,  40.07603712,  61.15924064,  87.54942493,\n",
       "        12.10858895,  13.02042906, -57.57375834, -26.69432235,\n",
       "        50.60619477,  57.43837241, -61.55147267,  -0.4248407 ,\n",
       "       -23.94251058, -20.61168026,  82.87336608, -40.15545273,\n",
       "       -13.1905607 ,  83.27858234])"
      ]
     },
     "execution_count": 9,
     "metadata": {},
     "output_type": "execute_result"
    }
   ],
   "source": [
    "np.random.uniform(-90.000, 90.000, size=50)"
   ]
  },
  {
   "cell_type": "code",
   "execution_count": 10,
   "id": "15ac9de4",
   "metadata": {},
   "outputs": [
    {
     "name": "stdout",
     "output_type": "stream",
     "text": [
      "35.5 µs ± 889 ns per loop (mean ± std. dev. of 7 runs, 10000 loops each)\n"
     ]
    }
   ],
   "source": [
    "%timeit np.random.uniform(-90.000, 90.000, size=1500)"
   ]
  },
  {
   "cell_type": "code",
   "execution_count": 11,
   "id": "f9d6ea46",
   "metadata": {},
   "outputs": [
    {
     "name": "stdout",
     "output_type": "stream",
     "text": [
      "4.64 ms ± 143 µs per loop (mean ± std. dev. of 7 runs, 100 loops each)\n"
     ]
    }
   ],
   "source": [
    "def latitudes(size):\n",
    "    latitudes = []\n",
    "    x = 0\n",
    "    while x < (size):\n",
    "        random_lat = random.randint(-90, 90) + random.random()\n",
    "        latitudes.append(random_lat)\n",
    "        x += 1\n",
    "    return latitudes\n",
    "# Call the function with 1500.\n",
    "%timeit latitudes(1500)"
   ]
  },
  {
   "cell_type": "code",
   "execution_count": null,
   "id": "13241353",
   "metadata": {},
   "outputs": [],
   "source": []
  }
 ],
 "metadata": {
  "kernelspec": {
   "display_name": "PythonData",
   "language": "python",
   "name": "pythondata"
  },
  "language_info": {
   "codemirror_mode": {
    "name": "ipython",
    "version": 3
   },
   "file_extension": ".py",
   "mimetype": "text/x-python",
   "name": "python",
   "nbconvert_exporter": "python",
   "pygments_lexer": "ipython3",
   "version": "3.7.10"
  }
 },
 "nbformat": 4,
 "nbformat_minor": 5
}
